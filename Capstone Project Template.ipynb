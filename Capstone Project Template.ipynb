{
 "cells": [
  {
   "cell_type": "markdown",
   "metadata": {},
   "source": [
    "# Project Title\n",
    "### Data Engineering Capstone Project\n",
    "\n",
    "#### Project Summary\n",
    "--describe your project at a high level--\n",
    "\n",
    "The project follows the follow steps:\n",
    "* Step 1: Scope the Project and Gather Data\n",
    "* Step 2: Explore and Assess the Data\n",
    "* Step 3: Define the Data Model\n",
    "* Step 4: Run ETL to Model the Data\n",
    "* Step 5: Complete Project Write Up"
   ]
  },
  {
   "cell_type": "code",
   "execution_count": 23,
   "metadata": {},
   "outputs": [
    {
     "output_type": "stream",
     "name": "stdout",
     "text": [
      "Requirement already satisfied: pyspark in /Library/Frameworks/Python.framework/Versions/3.9/lib/python3.9/site-packages (3.0.1)\n",
      "Requirement already satisfied: py4j==0.10.9 in /Library/Frameworks/Python.framework/Versions/3.9/lib/python3.9/site-packages (from pyspark) (0.10.9)\n",
      "\u001b[33mWARNING: You are using pip version 20.3.3; however, version 21.0.1 is available.\n",
      "You should consider upgrading via the '/Library/Frameworks/Python.framework/Versions/3.9/bin/python3.9 -m pip install --upgrade pip' command.\u001b[0m\n"
     ]
    }
   ],
   "source": [
    "!pip install pyspark\n",
    "#!pip install pyarrow"
   ]
  },
  {
   "cell_type": "code",
   "execution_count": 28,
   "metadata": {},
   "outputs": [],
   "source": [
    "# Do all imports and installs here\n",
    "import pandas as pd\n",
    "from pyspark.sql.functions import lower, col\n",
    "from pprint import pprint\n",
    "import configparser\n",
    "from datetime import datetime\n",
    "import pyarrow.parquet as pq\n",
    "import re\n",
    "import os, sys\n",
    "from pyspark.sql import SparkSession\n",
    "from pyspark.sql.functions import udf, col\n",
    "\n",
    "\n",
    "\n",
    "import pyspark.sql.functions as F\n",
    "pd.set_option('display.width',170, 'display.max_rows',200, 'display.max_columns',900)"
   ]
  },
  {
   "cell_type": "markdown",
   "metadata": {},
   "source": [
    "### Step 1: Scope the Project and Gather Data\n",
    "\n",
    "#### Scope \n",
    "Explain what you plan to do in the project in more detail. What data do you use? What is your end solution look like? What tools did you use? etc>\n",
    "\n",
    "#### Describe and Gather Data \n",
    "##### The immigration data comes form US National Tourism and Trade Office. "
   ]
  },
  {
   "cell_type": "code",
   "execution_count": 51,
   "metadata": {},
   "outputs": [],
   "source": [
    "#Data source\n",
    "air_data = \"airport-codes_csv.csv\"\n",
    "city_data=\"us-cities-demographics.csv\"\n",
    "temp_file=\"weather/GlobalLandTemperaturesByCity.csv\"\n",
    "sas=\"I94_SAS_Labels_Descriptions.SAS\""
   ]
  },
  {
   "cell_type": "code",
   "execution_count": 30,
   "metadata": {},
   "outputs": [],
   "source": [
    "spark = SparkSession.builder \\\n",
    "    .config(\"spark.jars.packages\",\"saurfang:spark-sas7bdat:2.0.0-s_2.11\") \\\n",
    "    .enableHiveSupport() \\\n",
    "    .getOrCreate()"
   ]
  },
  {
   "cell_type": "code",
   "execution_count": 31,
   "metadata": {},
   "outputs": [],
   "source": [
    "# Get the imgration data\n",
    "df_img = pq.ParquetDataset('sas_data').read_pandas().to_pandas(split_blocks=True, self_destruct=True)"
   ]
  },
  {
   "cell_type": "code",
   "execution_count": 32,
   "metadata": {},
   "outputs": [
    {
     "output_type": "execute_result",
     "data": {
      "text/plain": [
       "   cicid   i94yr  i94mon  i94cit  i94res i94port  arrdate  i94mode i94addr  depdate  i94bir  i94visa  count  dtadfile visapost occup entdepa entdepd entdepu matflag  \\\n",
       "0    6.0  2016.0     4.0   692.0   692.0     XXX  20573.0      NaN    None      NaN    37.0      2.0    1.0      None     None  None       T    None       U    None   \n",
       "1    7.0  2016.0     4.0   254.0   276.0     ATL  20551.0      1.0      AL      NaN    25.0      3.0    1.0  20130811      SEO  None       G    None       Y    None   \n",
       "\n",
       "   biryear   dtaddto gender insnum airline        admnum  fltno visatype  \n",
       "0   1979.0  10282016   None   None    None  1.897628e+09   None       B2  \n",
       "1   1991.0       D/S      M   None    None  3.736796e+09  00296       F1  "
      ],
      "text/html": "<div>\n<style scoped>\n    .dataframe tbody tr th:only-of-type {\n        vertical-align: middle;\n    }\n\n    .dataframe tbody tr th {\n        vertical-align: top;\n    }\n\n    .dataframe thead th {\n        text-align: right;\n    }\n</style>\n<table border=\"1\" class=\"dataframe\">\n  <thead>\n    <tr style=\"text-align: right;\">\n      <th></th>\n      <th>cicid</th>\n      <th>i94yr</th>\n      <th>i94mon</th>\n      <th>i94cit</th>\n      <th>i94res</th>\n      <th>i94port</th>\n      <th>arrdate</th>\n      <th>i94mode</th>\n      <th>i94addr</th>\n      <th>depdate</th>\n      <th>i94bir</th>\n      <th>i94visa</th>\n      <th>count</th>\n      <th>dtadfile</th>\n      <th>visapost</th>\n      <th>occup</th>\n      <th>entdepa</th>\n      <th>entdepd</th>\n      <th>entdepu</th>\n      <th>matflag</th>\n      <th>biryear</th>\n      <th>dtaddto</th>\n      <th>gender</th>\n      <th>insnum</th>\n      <th>airline</th>\n      <th>admnum</th>\n      <th>fltno</th>\n      <th>visatype</th>\n    </tr>\n  </thead>\n  <tbody>\n    <tr>\n      <th>0</th>\n      <td>6.0</td>\n      <td>2016.0</td>\n      <td>4.0</td>\n      <td>692.0</td>\n      <td>692.0</td>\n      <td>XXX</td>\n      <td>20573.0</td>\n      <td>NaN</td>\n      <td>None</td>\n      <td>NaN</td>\n      <td>37.0</td>\n      <td>2.0</td>\n      <td>1.0</td>\n      <td>None</td>\n      <td>None</td>\n      <td>None</td>\n      <td>T</td>\n      <td>None</td>\n      <td>U</td>\n      <td>None</td>\n      <td>1979.0</td>\n      <td>10282016</td>\n      <td>None</td>\n      <td>None</td>\n      <td>None</td>\n      <td>1.897628e+09</td>\n      <td>None</td>\n      <td>B2</td>\n    </tr>\n    <tr>\n      <th>1</th>\n      <td>7.0</td>\n      <td>2016.0</td>\n      <td>4.0</td>\n      <td>254.0</td>\n      <td>276.0</td>\n      <td>ATL</td>\n      <td>20551.0</td>\n      <td>1.0</td>\n      <td>AL</td>\n      <td>NaN</td>\n      <td>25.0</td>\n      <td>3.0</td>\n      <td>1.0</td>\n      <td>20130811</td>\n      <td>SEO</td>\n      <td>None</td>\n      <td>G</td>\n      <td>None</td>\n      <td>Y</td>\n      <td>None</td>\n      <td>1991.0</td>\n      <td>D/S</td>\n      <td>M</td>\n      <td>None</td>\n      <td>None</td>\n      <td>3.736796e+09</td>\n      <td>00296</td>\n      <td>F1</td>\n    </tr>\n  </tbody>\n</table>\n</div>"
     },
     "metadata": {},
     "execution_count": 32
    }
   ],
   "source": [
    "# Explor the Data\n",
    "df_img.head(2)"
   ]
  },
  {
   "source": [
    "#### Data Dictionary that we are interesting in:\n",
    "##### Immigration Data\n",
    "- cicid - float64 - ID that is unique, identify the dataset\n",
    "- i94yr - float64 - 4 digit year\n",
    "- i94cit - float64 - 3 digit code of immigrant born country\n",
    "- i94res - float64 - 3 digit code of immigrant country of residence\n",
    "- arrdate - float64 - Arrival date in the USA\n",
    "- i94port = 3 character code of destination USA city\n",
    "- i94mode - float64 - Mode of transportation (1 = Air; 2 = Sea; 3 = Land; 9 = Not reported)\n",
    "- biryear - float64 - 4 digit year of birth\n",
    "- i94visa - float64 - Visa codes modified into: (B1, E2 = Business; B2 = Pleasure; F1 = Student, WB, WT= Three months visit, others = the rest)\n",
    "- gender - \n",
    "- fltno - object - Flight number of Airline used to arrive in U.S.\n",
    "- visatype - object - Class of admission legally admitting the non-immigrant to temporarily stay in U.S. "
   ],
   "cell_type": "markdown",
   "metadata": {}
  },
  {
   "cell_type": "code",
   "execution_count": 33,
   "metadata": {},
   "outputs": [
    {
     "output_type": "execute_result",
     "data": {
      "text/plain": [
       "cicid        0.000000\n",
       "i94yr        0.000000\n",
       "i94cit       0.000000\n",
       "i94port      0.000000\n",
       "i94res       0.000000\n",
       "arrdate      0.000000\n",
       "i94mode      0.007719\n",
       "biryear      0.025902\n",
       "i94visa      0.000000\n",
       "gender      13.379429\n",
       "fltno        0.631364\n",
       "visatype     0.000000\n",
       "dtype: float64"
      ]
     },
     "metadata": {},
     "execution_count": 33
    }
   ],
   "source": [
    "# select the data and show missing value\n",
    "new_df_img=df_img[['cicid', 'i94yr', 'i94cit', 'i94port','i94res', 'arrdate', 'i94mode', 'biryear','i94visa', 'gender', 'fltno', 'visatype']] \n",
    "(new_df_img.isna().sum() /len(new_df_img)) * 100\n"
   ]
  },
  {
   "cell_type": "code",
   "execution_count": 34,
   "metadata": {},
   "outputs": [
    {
     "output_type": "execute_result",
     "data": {
      "text/plain": [
       "   i94cit i94port  i94res  arrdate  i94mode  biryear  i94visa gender\n",
       "0   692.0     XXX   692.0  20573.0      NaN   1979.0      2.0   None\n",
       "1   254.0     ATL   276.0  20551.0      1.0   1991.0      3.0      M"
      ],
      "text/html": "<div>\n<style scoped>\n    .dataframe tbody tr th:only-of-type {\n        vertical-align: middle;\n    }\n\n    .dataframe tbody tr th {\n        vertical-align: top;\n    }\n\n    .dataframe thead th {\n        text-align: right;\n    }\n</style>\n<table border=\"1\" class=\"dataframe\">\n  <thead>\n    <tr style=\"text-align: right;\">\n      <th></th>\n      <th>i94cit</th>\n      <th>i94port</th>\n      <th>i94res</th>\n      <th>arrdate</th>\n      <th>i94mode</th>\n      <th>biryear</th>\n      <th>i94visa</th>\n      <th>gender</th>\n    </tr>\n  </thead>\n  <tbody>\n    <tr>\n      <th>0</th>\n      <td>692.0</td>\n      <td>XXX</td>\n      <td>692.0</td>\n      <td>20573.0</td>\n      <td>NaN</td>\n      <td>1979.0</td>\n      <td>2.0</td>\n      <td>None</td>\n    </tr>\n    <tr>\n      <th>1</th>\n      <td>254.0</td>\n      <td>ATL</td>\n      <td>276.0</td>\n      <td>20551.0</td>\n      <td>1.0</td>\n      <td>1991.0</td>\n      <td>3.0</td>\n      <td>M</td>\n    </tr>\n  </tbody>\n</table>\n</div>"
     },
     "metadata": {},
     "execution_count": 34
    }
   ],
   "source": [
    "new_df_img[['i94cit', 'i94port','i94res', 'arrdate', 'i94mode', 'biryear','i94visa', 'gender']].head(2)"
   ]
  },
  {
   "cell_type": "code",
   "execution_count": 35,
   "metadata": {},
   "outputs": [
    {
     "output_type": "execute_result",
     "data": {
      "text/plain": [
       "3 Months Visa    1592042\n",
       "Pleasure         1117897\n",
       "Business          231793\n",
       "Others            115565\n",
       "Student            39016\n",
       "Name: visatype, dtype: int64"
      ]
     },
     "metadata": {},
     "execution_count": 35
    }
   ],
   "source": [
    "# Cleaning: replace visatype values into 4 catogories: (B1, E2 = Business; B2 = Pleasure; F1 = Student, WB, WT= Three months visit, others = the rest)\n",
    "new_df_img['visatype']= new_df_img['visatype'].replace(['B1', 'E2'], 'Business')\n",
    "new_df_img['visatype']= new_df_img['visatype'].replace('B2', 'Pleasure')\n",
    "new_df_img['visatype']= new_df_img['visatype'].replace('F1', 'Student')\n",
    "new_df_img['visatype']= new_df_img['visatype'].replace(['WB','WT'], '3 Months Visa')\n",
    "new_df_img['visatype']= new_df_img['visatype'].replace(['WB','WT'], '3 Months Visa')\n",
    "new_df_img['visatype']= new_df_img['visatype'].replace(['GMT','CP', 'E1','I', 'F2','M1', 'I1', 'GMB', 'M2', 'SBP', 'CPL'], 'Others')\n",
    "\n",
    "new_df_img.visatype.value_counts()"
   ]
  },
  {
   "cell_type": "code",
   "execution_count": 36,
   "metadata": {},
   "outputs": [
    {
     "output_type": "execute_result",
     "data": {
      "text/plain": [
       "M    1377224\n",
       "F    1302743\n",
       "X       1610\n",
       "U        467\n",
       "Name: gender, dtype: int64"
      ]
     },
     "metadata": {},
     "execution_count": 36
    }
   ],
   "source": [
    "new_df_img.gender.value_counts()"
   ]
  },
  {
   "cell_type": "code",
   "execution_count": 37,
   "metadata": {},
   "outputs": [
    {
     "output_type": "stream",
     "name": "stdout",
     "text": [
      "<class 'pandas.core.frame.DataFrame'>\nRangeIndex: 3096313 entries, 0 to 3096312\nData columns (total 12 columns):\n #   Column    Dtype  \n---  ------    -----  \n 0   cicid     float64\n 1   i94yr     float64\n 2   i94cit    float64\n 3   i94port   object \n 4   i94res    float64\n 5   arrdate   float64\n 6   i94mode   float64\n 7   biryear   float64\n 8   i94visa   float64\n 9   gender    object \n 10  fltno     object \n 11  visatype  object \ndtypes: float64(8), object(4)\nmemory usage: 283.5+ MB\n"
     ]
    }
   ],
   "source": [
    "new_df_img.info()"
   ]
  },
  {
   "cell_type": "code",
   "execution_count": 38,
   "metadata": {},
   "outputs": [
    {
     "output_type": "stream",
     "name": "stdout",
     "text": [
      "I94YR : 4 digit year\nI94MON : Numeric month\nI94CIT & I94RES : This format shows all the valid and invalid codes for processing\nI94PORT : This format shows all the valid and invalid codes for processing\nI94MODE : There are missing values as well as not reported (9)\nI94BIR : Age of Respondent in Years\nCOUNT : Used for summary statistics\nDTADFILE : Character Date Field - Date added to I-94 Files - CIC does not use\nVISAPOST : Department of State where where Visa was issued - CIC does not use\nOCCUP : Occupation that will be performed in U.S. - CIC does not use\nENTDEPA : Arrival Flag - admitted or paroled into the U.S. - CIC does not use\nENTDEPD : Departure Flag - Departed, lost I-94 or is deceased - CIC does not use\nENTDEPU : Update Flag - Either apprehended, overstayed, adjusted to perm residence - CIC does not use\nMATFLAG : Match flag - Match of arrival and departure records\nBIRYEAR : 4 digit year of birth\nDTADDTO : Character Date Field - Date to which admitted to U.S. (allowed to stay until) - CIC does not use\nGENDER : Non-immigrant sex\nINSNUM : INS number\nAIRLINE : Airline used to arrive in U.S.\nADMNUM : Admission Number\nFLTNO : Flight number of Airline used to arrive in U.S.\nVISATYPE : Class of admission legally admitting the non-immigrant to temporarily stay in U.S.\n"
     ]
    }
   ],
   "source": [
    "# Collect data from SAS file(port_code, port_city, port_state) \n",
    "with open(sas) as f:\n",
    "    lines = f.readlines()    \n",
    "\n",
    "comments = [line for line in lines if '/*' in line and '*/\\n' in line]\n",
    "regexp = re.compile(r'^/\\*\\s+(?P<code>.+?)\\s+-\\s+(?P<description>.+)\\s+\\*/$')\n",
    "matches = [regexp.match(c) for c in comments]\n",
    "\n",
    "for m in matches:\n",
    "    print(m.group(\"code\"), \":\", m.group('description'))"
   ]
  },
  {
   "cell_type": "code",
   "execution_count": 46,
   "metadata": {
    "tags": [
     "outputPrepend"
    ]
   },
   "outputs": [
    {
     "output_type": "stream",
     "name": "stdout",
     "text": [
      "\n",
      " 'BUS': ['Collapsed (BUF) 06/15'],\n",
      " 'BWA': ['BOUNDARY, WA          '],\n",
      " 'BWM': ['BRIDGEWATER, ME       '],\n",
      " 'BYO': ['BAYONNE, NJ           '],\n",
      " 'BZN': ['GALLATIN FIELD - BOZEMAN, MT'],\n",
      " 'CAE': ['COLUMBIA, SC #ARPT'],\n",
      " 'CAK': ['AKRON, OH'],\n",
      " 'CAL': ['CALEXICO, CA          '],\n",
      " 'CAN': ['CAPE CANAVERAL, FL    '],\n",
      " 'CAO': ['CAMPO, CA             '],\n",
      " 'CAP': ['CAPE VINCENT, NY      '],\n",
      " 'CAR': ['CARIBOU MUNICIPAL AIRPORT, MN'],\n",
      " 'CDD': ['CRANE LAKE - ST. LOUIS CNTY, NM'],\n",
      " 'CHA': ['CHARLOTTE AMALIE, VI  '],\n",
      " 'CHF': ['CHIEF MT, MT          '],\n",
      " 'CHI': ['CHICAGO, IL           '],\n",
      " 'CHL': ['CHARLESTON, SC        '],\n",
      " 'CHM': ['CHAMPLAIN, NY         '],\n",
      " 'CHN': ['No PORT Code (CHN)'],\n",
      " 'CHO': ['ALBEMARLE CHARLOTTESVILLE, VA'],\n",
      " 'CHR': ['CHRISTIANSTED, VI     '],\n",
      " 'CHS': ['CHARLESTON, WV        '],\n",
      " 'CHT': ['CHATEAUGAY, NY        '],\n",
      " 'CID': ['CEDAR RAPIDS/IOWA CITY, IA'],\n",
      " 'CIN': ['CINCINNATI, OH        '],\n",
      " 'CLA': ['CLAYTON, NY           '],\n",
      " 'CLE': ['CLEVELAND, OH         '],\n",
      " 'CLG': ['CALGARY, CANADA       '],\n",
      " 'CLK': ['CLARKSBURG, WV        '],\n",
      " 'CLM': ['COLUMBUS, OH          '],\n",
      " 'CLS': ['CALAIS, ME   '],\n",
      " 'CLT': ['CHARLOTTE, NC         '],\n",
      " 'CLX': ['No PORT Code (CLX)'],\n",
      " 'CNA': ['CANAAN, VT            '],\n",
      " 'CNC': ['CANNON CORNERS, NY'],\n",
      " 'CND': ['KOGALNICEANU, ROMANIA'],\n",
      " 'CNH': ['CANNON CORNERS, NY'],\n",
      " 'CNJ': ['CAMDEN, NJ            '],\n",
      " 'COB': ['COBURN GORE, ME       '],\n",
      " 'COL': ['COLUMBUS, NM          '],\n",
      " 'COO': ['COOS BAY, OR          '],\n",
      " 'COS': ['COLORADO SPRINGS, CO'],\n",
      " 'CP ': ['No PORT Code (CP)'],\n",
      " 'CPX': ['No PORT Code (CPX)'],\n",
      " 'CRA': ['CRANE LAKE, MN        '],\n",
      " 'CRB': ['CARIBOU, ME           '],\n",
      " 'CRL': ['CARLSBAD, NM          '],\n",
      " 'CRP': ['CORPUS CHRISTI, TX    '],\n",
      " 'CRQ': ['CARAVELAS, BA #ARPT, BRAZIL'],\n",
      " 'CRU': ['CRUZ BAY, ST JOHN, VI '],\n",
      " 'CRY': ['CARBURY, ND           '],\n",
      " 'CSP': ['CASPER, WY            '],\n",
      " 'CTB': ['CUT BANK MUNICIPAL, MT'],\n",
      " 'CUN': ['CANCUN, MEXICO'],\n",
      " 'CUR': ['CURLEW, WA (BPS)'],\n",
      " 'CUT': ['CUT BANK, MT          '],\n",
      " 'CXO': ['No PORT Code (CXO)'],\n",
      " 'DAA': ['DAVISON AAF - FAIRFAX CNTY, VA'],\n",
      " 'DAB': ['DAYTONA BEACH INTERNATIONAL, FL'],\n",
      " 'DAC': ['DALTONS CACHE, AK     '],\n",
      " 'DAL': ['DALLAS, TX            '],\n",
      " 'DAY': ['No PORT Code (DAY)'],\n",
      " 'DEC': ['No PORT Code (DEC)'],\n",
      " 'DEN': ['DENVER, CO            '],\n",
      " 'DER': ['DERBY LINE, VT (I-91) '],\n",
      " 'DET': ['DETROIT, MI           '],\n",
      " 'DLB': ['DEL BONITA, MT        '],\n",
      " 'DLR': ['DEL RIO, TX           '],\n",
      " 'DLV': ['DERBY LINE, VT (RT. 5)'],\n",
      " 'DNA': ['DONNA, TX'],\n",
      " 'DNM': ['DEMING, NM (BPS)'],\n",
      " 'DNS': ['DUNSEITH, ND          '],\n",
      " 'DOU': ['DOUGLAS, AZ           '],\n",
      " 'DOV': ['DOVER AFB, DE'],\n",
      " 'DPA': ['DUPAGE COUNTY, IL'],\n",
      " 'DRO': ['LA PLATA - DURANGO, CO'],\n",
      " 'DRV': ['No PORT Code (DRV)'],\n",
      " 'DSM': ['DES MOINES, IA'],\n",
      " 'DTH': ['DUTCH HARBOR, AK      '],\n",
      " 'DUB': ['DUBLIN, IRELAND       '],\n",
      " 'DUL': ['DULUTH, MN            '],\n",
      " 'DUR': ['LOUIS BOTHA, SOUTH AFRICA'],\n",
      " 'DVD': ['DOVER-AFB, DE         '],\n",
      " 'DVL': ['DANVILLE, WA          '],\n",
      " 'EDA': ['EDMONTON, CANADA      '],\n",
      " 'EGE': ['No PORT Code (EGE)'],\n",
      " 'EGL': ['EAGLE, AK             '],\n",
      " 'EGP': ['EAGLE PASS, TX        '],\n",
      " 'ELM': ['REGIONAL ARPT - HORSEHEAD, NY'],\n",
      " 'ELP': ['EL PASO, TX           '],\n",
      " 'ELY': ['ELY, MN               '],\n",
      " 'ENS': ['ENSENADA, PR          '],\n",
      " 'EPI': ['EASTPORT, ID          '],\n",
      " 'EPM': ['EASTPORT, ME          '],\n",
      " 'EPT': ['EASTPORT MUNICIPAL, ME'],\n",
      " 'ERC': ['EAST RICHFORD, VT     '],\n",
      " 'ERI': ['ERIE, PA              '],\n",
      " 'EST': ['EASTCOURT, ME         '],\n",
      " 'EUR': ['EUREKA, MT (BPS)'],\n",
      " 'EVE': ['EVERETT, WA           '],\n",
      " 'EZE': ['BUENOS AIRES, MINISTRO PIST, ARGENTINA'],\n",
      " 'FAB': ['FABENS, TX            '],\n",
      " 'FAJ': ['FAJARDO, PR           '],\n",
      " 'FAL': ['FALCON HEIGHTS, TX    '],\n",
      " 'FAR': ['FARGO, ND             '],\n",
      " 'FAY': ['FAYETTEVILLE, NC'],\n",
      " 'FBA': ['FREEPORT, BAHAMAS      '],\n",
      " 'FCA': ['GLACIER NATIONAL PARK, MT'],\n",
      " 'FER': ['FERRY, WA             '],\n",
      " 'FLX': ['FALLON MUNICIPAL AIRPORT, NV'],\n",
      " 'FMY': ['FORT MYERS, FL        '],\n",
      " 'FOK': ['SUFFOLK COUNTY, NY'],\n",
      " 'FOP': ['MORRIS FIELDS AAF, NC'],\n",
      " 'FOR': ['FOREST CITY, ME       '],\n",
      " 'FOU': ['FOUGAMOU #ARPT, GABON'],\n",
      " 'FPF': ['FORT PIERCE, FL       '],\n",
      " 'FPR': ['ST LUCIE COUNTY, FL'],\n",
      " 'FPT': ['FREEPORT, TX          '],\n",
      " 'FRB': ['FAIRBANKS, AK         '],\n",
      " 'FRE': ['FRESNO, CA            '],\n",
      " 'FRG': ['Collapsed (FOK) 06/15'],\n",
      " 'FRI': ['FRIDAY HARBOR, WA     '],\n",
      " 'FRK': ['FREDERIKSTED, VI      '],\n",
      " 'FRN': ['FERNANDINA, FL        '],\n",
      " 'FRT': ['FORTUNA, ND           '],\n",
      " 'FSC': ['No PORT Code (FSC)'],\n",
      " 'FTB': ['No PORT Code (FTB)'],\n",
      " 'FTC': ['FORT COVINGTON, NY    '],\n",
      " 'FTF': ['FORT FAIRFIELD, ME    '],\n",
      " 'FTH': ['FORT HANCOCK, TX      '],\n",
      " 'FTK': ['FORT KENT, ME         '],\n",
      " 'FTL': ['FORT LAUDERDALE, FL   '],\n",
      " 'FWA': ['FRONTIER, WA          '],\n",
      " 'GAC': ['No PORT Code (GAC)'],\n",
      " 'GAL': ['GALVESTON, TX         '],\n",
      " 'GAR': ['GARY, IN              '],\n",
      " 'GCM': ['GRAND CAYMAN, CAYMAN ISLAND'],\n",
      " 'GDL': ['GUADALAJARA, MIGUEL HIDAL, MX'],\n",
      " 'GEO': ['GEORGETOWN, SC        '],\n",
      " 'GGW': ['GLASGOW, MT           '],\n",
      " 'GLO': ['GLOUCESTER, MA        '],\n",
      " 'GMT': ['No PORT Code (GMT)'],\n",
      " 'GNV': ['J R ALISON MUNI - GAINESVILLE, FL'],\n",
      " 'GPI': ['No PORT Code (GPI)'],\n",
      " 'GPM': ['GRAND PORTAGE, MN     '],\n",
      " 'GPT': ['BILOXI REGIONAL, MS'],\n",
      " 'GRB': ['GREEN BAY, WI         '],\n",
      " 'GRE': ['GREAT FALLS, MT       '],\n",
      " 'GRF': ['GRAND FORKS, ND       '],\n",
      " 'GRO': ['GROSSE ISLE, MI       '],\n",
      " 'GRP': ['GRAND RAPIDS, MI'],\n",
      " 'GRR': ['GREER, SC'],\n",
      " 'GRT': ['GROTON, CT            '],\n",
      " 'GRU': ['GUARULHOS INTL, SAO PAULO, BRAZIL'],\n",
      " 'GSO': ['PIEDMONT TRIAD INTL AIRPORT, NC'],\n",
      " 'GSP': ['GREENVILLE, SC'],\n",
      " 'GTF': ['Collapsed into INT, MN'],\n",
      " 'GTR': ['GOLDEN TRIANGLE LOWNDES CNTY, MS'],\n",
      " 'GUL': ['GULFPORT, MS          '],\n",
      " 'HAL': ['Halifax, NS, Canada   '],\n",
      " 'HAM': ['HAMILTON, BERMUDA     '],\n",
      " 'HAR': ['HARTFORD, CT          '],\n",
      " 'HEF': ['MANASSAS, VA #ARPT'],\n",
      " 'HEL': ['HELENA, MT            '],\n",
      " 'HHW': ['HONOLULU, HI          '],\n",
      " 'HID': ['HIDALGO, TX           '],\n",
      " 'HIG': ['HIGHGATE SPRINGS, VT  '],\n",
      " 'HIL': ['SHILLAVO, ETHIOPIA'],\n",
      " 'HIO': ['HILLSBORO, OR'],\n",
      " 'HLG': ['HARLINGEN, TX         '],\n",
      " 'HML': ['HAMIIN, ME            '],\n",
      " 'HMM': ['HAMMOND, IN           '],\n",
      " 'HMO': ['GEN PESQUEIRA GARCIA, MX'],\n",
      " 'HNN': ['HANNAH, ND            '],\n",
      " 'HNS': ['HANSBORO, ND          '],\n",
      " 'HOB': ['HOBOKEN, NJ           '],\n",
      " 'HOM': ['HOMER, AK             '],\n",
      " 'HON': ['HOWES REGIONAL ARPT - HURON, SD'],\n",
      " 'HOP': ['HOPEWELL, VA          '],\n",
      " 'HOU': ['HOUSTON, TX           '],\n",
      " 'HPN': ['WESTCHESTER - WHITE PLAINS, NY'],\n",
      " 'HRL': ['Collapsed (HLG) 06/15'],\n",
      " 'HSB': ['HARRISONBURG, PA      '],\n",
      " 'HSV': ['MADISON COUNTY - HUNTSVILLE, AL'],\n",
      " 'HTM': ['HOULTON, ME           '],\n",
      " 'HUM': ['HUMACAO, PR           '],\n",
      " 'HUR': ['HURLBURT FIELD, FL'],\n",
      " 'HVR': ['HAVRE, MT             '],\n",
      " 'HYD': ['HYDER, AK             '],\n",
      " 'IAG': ['Collapsed (NIA) 06/15'],\n",
      " 'ICN': ['INCHON, SEOUL KOREA'],\n",
      " 'ICP': ['IMPERIAL COUNTY, CA   '],\n",
      " 'ICT': ['MID-CONTINENT - WITCHITA, KS'],\n",
      " 'IDA': ['FANNING FIELD - IDAHO FALLS, ID'],\n",
      " 'IND': ['LOS INDIOS, TX'],\n",
      " 'INL': ['Collapsed into INT, MN'],\n",
      " 'INP': ['INDIANAPOLIS, IN      '],\n",
      " \"INT'\\t=\\t'INT\": ['L FALLS, MN      '],\n",
      " 'ISB': ['PORT ISABEL, TX       '],\n",
      " 'ISL': ['ISLE ROYALE, MI       '],\n",
      " 'ISP': ['Collapsed (FOK) 06/15'],\n",
      " 'IWA': ['INVALID - IWAKUNI, JAPAN'],\n",
      " 'JAC': ['JACKSONVILLE, FL      '],\n",
      " 'JAN': ['THOMPSON FIELD - JACKSON, MS'],\n",
      " 'JBQ': ['No PORT Code (JBQ)'],\n",
      " 'JCP': ['CULEBRA - BENJAMIN RIVERA, PR'],\n",
      " 'JER': ['JERSEY CITY, NJ       '],\n",
      " 'JFA': ['No PORT Code (JFA)'],\n",
      " 'JIG': ['No PORT Code (JIG)'],\n",
      " 'JKM': ['JACKMAN, ME           '],\n",
      " 'JMZ': ['No PORT Code (JMZ)'],\n",
      " 'JOB': ['JOBOS, PR             '],\n",
      " 'JSJ': ['Collapsed (SAJ) 06/15'],\n",
      " 'JUN': ['JUNEAU, AK            '],\n",
      " 'KAL': ['KALISPEL, MT          '],\n",
      " 'KAN': ['KANSAS CITY, MO       '],\n",
      " 'KET': ['KETCHIKAN, AK         '],\n",
      " 'KEY': ['KEY WEST, FL          '],\n",
      " 'KLM': ['KALAMA, WA            '],\n",
      " 'KOA': ['KEAHOLE-KONA, HI      '],\n",
      " 'LAG': ['LA GUARDIA, NY        '],\n",
      " 'LAH': ['LABUHA ARPT, INDONESIA'],\n",
      " 'LAK': ['LAKE CHARLES, LA (BPS)'],\n",
      " 'LAN': ['LANCASTER, MN         '],\n",
      " 'LAR': ['LAREDO, TX            '],\n",
      " 'LAS': ['LAS CRUCES, NM        '],\n",
      " 'LAU': ['LAURIER, WA           '],\n",
      " 'LCB': ['LAREDO COLUMBIA BRIDGE, TX'],\n",
      " 'LEB': ['LEBANON, NH           '],\n",
      " 'LEE': ['LEESBURG MUNICIPAL AIRPORT, FL'],\n",
      " 'LEW': ['LEWISTON, NY          '],\n",
      " 'LEX': ['BLUE GRASS - LEXINGTON, KY'],\n",
      " 'LGU': ['CACHE AIRPORT - LOGAN, UT'],\n",
      " 'LGW': ['WEST SUSSEX, ENGLAND  '],\n",
      " 'LHR': ['MIDDLESEX, ENGLAND'],\n",
      " 'LIA': ['LITTLE ROCK, AR (BPS)'],\n",
      " 'LIH': ['LIHUE, HI             '],\n",
      " 'LIM': ['LIMESTONE, ME         '],\n",
      " 'LIN': ['NORTHERN SVC CENTER, MN   '],\n",
      " 'LIT': ['No PORT Code (LIT)'],\n",
      " 'LKC': ['LAKE CHARLES, LA      '],\n",
      " 'LLB': ['JUAREZ-LINCOLN BRIDGE, TX'],\n",
      " 'LNB': ['LONG BEACH, CA         '],\n",
      " 'LND': ['LANDER, WY'],\n",
      " 'LOB': ['LORDSBURG, NM (BPS)'],\n",
      " 'LOI': ['LOS INDIOS, TX        '],\n",
      " 'LON': ['LONGVIEW, WA          '],\n",
      " 'LOR': ['LORAIN, OH            '],\n",
      " 'LOS': ['LOS ANGELES, CA       '],\n",
      " 'LOU': ['LOUISVILLE, KY        '],\n",
      " 'LRN': ['LAREDO NORTH, TX      '],\n",
      " 'LSE': ['LOS EBANOS, TX        '],\n",
      " 'LUB': ['LUBEC, ME             '],\n",
      " 'LUK': ['LUKEVILLE, AZ         '],\n",
      " 'LVG': ['LAS VEGAS, NV         '],\n",
      " 'LWT': ['LEWISTON, MT          '],\n",
      " 'LYN': ['LYNDEN, WA            '],\n",
      " 'MAA': ['Abu Dhabi'],\n",
      " 'MAD': ['MADAWASKA, ME         '],\n",
      " 'MAF': ['ODESSA REGIONAL, TX'],\n",
      " 'MAG': ['MCGUIRE AFB, NY       '],\n",
      " 'MAI': ['MAIDA, ND             '],\n",
      " 'MAL': ['MANGOLE ARPT, INDONESIA'],\n",
      " 'MAP': ['MARIPOSA AZ           '],\n",
      " 'MAR': ['MARFA, TX'],\n",
      " 'MAS': ['MASSENA, NY           '],\n",
      " 'MAY': ['MAYAGUEZ, PR          '],\n",
      " 'MBO': ['MARBLE HEADS, OH      '],\n",
      " 'MCA': ['MCALLEN, TX           '],\n",
      " 'MDE': ['MEDELLIN, COLOMBIA'],\n",
      " 'MDT': ['HARRISBURG, PA'],\n",
      " 'MED': ['MEDFORD, OR           '],\n",
      " 'MEM': ['MEMPHIS, TN           '],\n",
      " 'MET': ['METALINE FALLS, WA    '],\n",
      " 'MEX': ['JUAREZ INTL, MEXICO CITY, MX'],\n",
      " 'MGC': ['MORGAN CITY, LA       '],\n",
      " 'MGM': ['MORGAN, MT            '],\n",
      " 'MHT': ['MANCHESTER, NH'],\n",
      " 'MIA': ['MIAMI, FL             '],\n",
      " 'MIC': ['CRYSTAL MUNICIPAL AIRPORT, MN'],\n",
      " 'MIL': ['MILWAUKEE, WI         '],\n",
      " 'MKG': ['MUSKEGON, MD'],\n",
      " 'MLB': ['MELBOURNE, FL'],\n",
      " 'MLI': ['MOLINE, IL'],\n",
      " 'MLU': ['MONROE, LA'],\n",
      " 'MMU': ['MORRISTOWN, NJ'],\n",
      " 'MND': ['MINOT, ND             '],\n",
      " 'MNW': ['MANITOWOC, WI         '],\n",
      " 'MOB': ['MOBILE, AL            '],\n",
      " 'MON': ['MONTREAL, CANADA      '],\n",
      " 'MOO': ['MOORES, NY            '],\n",
      " 'MOR': ['MORSES LINE, VT       '],\n",
      " 'MOS': ['MOSES POINT INTERMEDIATE, AK'],\n",
      " 'MRC': ['MARINE CITY, MI       '],\n",
      " 'MRH': ['MOREHEAD CITY, NC     '],\n",
      " 'MRL': ['MERRILLVILLE, IN      '],\n",
      " 'MRR': ['MORRISTOWN, NY        '],\n",
      " 'MRS': ['MARFA, TX (BPS)'],\n",
      " 'MRY': ['MARYSVILLE, MI        '],\n",
      " 'MSN': ['TRUAX FIELD - DANE COUNTY, WI'],\n",
      " 'MSP': ['MINN./ST PAUL, MN     '],\n",
      " 'MTH': ['No PORT Code (MTH)'],\n",
      " 'MTY': ['GEN M. ESCOBEDO, Monterrey, MX'],\n",
      " 'MVD': ['CARRASCO, URUGUAY'],\n",
      " 'MWH': ['MOSES LAKE GRANT COUNTY ARPT, WA'],\n",
      " 'MYR': ['MYRTLE BEACH, SC'],\n",
      " 'NAC': ['NACO, AZ              '],\n",
      " 'NAS': ['NASSAU, BAHAMAS       '],\n",
      " 'NBO': ['NAIROBI, KENYA        '],\n",
      " 'NC8': ['No PORT Code (NC8)'],\n",
      " 'NCA': ['NORTH CAICOS, TURK & CAIMAN'],\n",
      " 'NEA': ['NEAH BAY, WA          '],\n",
      " 'NEC': ['NECHE, ND             '],\n",
      " 'NEW': ['NEWARK/TETERBORO, NJ  '],\n",
      " 'NGL': ['No PORT Code (NGL)'],\n",
      " 'NIA': ['NIAGARA FALLS, NY     '],\n",
      " 'NIG': ['NIGHTHAWK, WA         '],\n",
      " 'NIK': ['NIKISKI, AK           '],\n",
      " 'NK': ['No PORT Code (NK)'],\n",
      " 'NOG': ['NOGALES, AZ           '],\n",
      " 'NOL': ['NEW ORLEANS, LA       '],\n",
      " 'NOM': ['NOM, AK               '],\n",
      " 'NOO': ['NOONAN, ND            '],\n",
      " 'NOR': ['NORFOLK, VA           '],\n",
      " 'NOY': ['NOYES, MN             '],\n",
      " 'NPT': ['NEWPORT, OR           '],\n",
      " 'NPV': ['NEWPORT, VT           '],\n",
      " 'NRG': ['NORTHGATE, ND         '],\n",
      " 'NRN': ['NORTON, VT            '],\n",
      " 'NRT': ['NORTH TROY, VT        '],\n",
      " 'NSV': ['NASHVILLE, TN         '],\n",
      " 'NWH': ['NEW HAVEN, CT         '],\n",
      " 'NWL': ['NEW LONDON, CT        '],\n",
      " 'NWN': ['NEWPORT, VA           '],\n",
      " 'NYC': ['NEW YORK, NY          '],\n",
      " 'NYL': ['No PORT Code (NYL)'],\n",
      " 'OAI': ['No PORT Code (OAI)'],\n",
      " 'OAK': ['OAKLAND, CA '],\n",
      " 'OGD': ['OGDENSBURG, NY        '],\n",
      " 'OGG': ['KAHULUI - MAUI, HI'],\n",
      " 'OGS': ['No PORT Code (OGS)'],\n",
      " 'OKC': ['OKLAHOMA CITY, OK     '],\n",
      " 'OLM': ['No PORT Code (OLM)'],\n",
      " 'OLY': ['OLYMPIA, WA           '],\n",
      " 'OMA': ['OMAHA, NE             '],\n",
      " 'ONT': ['ONTARIO, CA'],\n",
      " 'OPF': ['OPA LOCKA, FL'],\n",
      " 'OPH': ['OPHEIM, MT            '],\n",
      " 'ORI': ['PORT LIONS SPB, AK'],\n",
      " 'ORL': ['ORLANDO, FL           '],\n",
      " 'ORO': ['OROVILLE, WA          '],\n",
      " 'OSW': ['OSWEGO, NY            '],\n",
      " 'OTM': ['OTAY MESA, CA          '],\n",
      " 'OTS': ['No PORT Code (OTS)'],\n",
      " 'OTT': ['OTTAWA, CANADA        '],\n",
      " 'PAN': ['PANAMA CITY, FL       '],\n",
      " 'PAR': ['PORT ARTHUR, TX       '],\n",
      " 'PAS': ['PASCAGOULA, MS        '],\n",
      " 'PAX': ['PATUXENT RIVER, MD    '],\n",
      " 'PBB': ['PEACE BRIDGE, NY      '],\n",
      " 'PCF': ['PORT CANAVERAL, FL    '],\n",
      " 'PCW': ['No PORT Code (PCW)'],\n",
      " 'PDN': ['PASO DEL NORTE,TX     '],\n",
      " 'PEK': ['BEIJING CAPITAL INTL, PRC'],\n",
      " 'PEM': ['PEMBINA, ND           '],\n",
      " 'PEN': ['PENSACOLA, FL         '],\n",
      " 'PER': ['PERTH AMBOY, NJ       '],\n",
      " 'PEV': ['PORT EVERGLADES, FL   '],\n",
      " 'PFN': ['No PORT Code (PFN)'],\n",
      " 'PGR': ['PROGRESO, TX          '],\n",
      " 'PHF': ['No PORT Code (PHF)'],\n",
      " 'PHI': ['PHILADELPHIA, PA      '],\n",
      " 'PHN': ['Collapsed (PHU) 06/15'],\n",
      " 'PHO': ['PHOENIX, AZ           '],\n",
      " 'PHR': ['PHARR, TX             '],\n",
      " 'PHU': ['PORT HURON, MI        '],\n",
      " 'PIA': ['GREATER PEORIA, IL'],\n",
      " 'PIE': ['PIEGAN, MT            '],\n",
      " 'PIN': ['PINE CREEK, MN        '],\n",
      " 'PIR': ['POINT ROBERTS, WA     '],\n",
      " 'PIT': ['PITTSBURG, PA         '],\n",
      " 'PIV': ['PINNACLE ROAD, VT     '],\n",
      " 'PIZ': ['DEW STATION PT LAY DEW, AK'],\n",
      " 'PKC': ['POKER CREEK, AK       '],\n",
      " 'PLB': ['No PORT Code (PLB)'],\n",
      " 'PNG': ['PORT ANGELES, WA      '],\n",
      " 'PNH': ['PITTSBURG, NH         '],\n",
      " 'POE': ['PORT OF EL PASO, TX   '],\n",
      " 'POM': ['PORTLAND, ME          '],\n",
      " 'PON': ['PONCE, PR             '],\n",
      " 'POO': ['PORTLAND, OR          '],\n",
      " 'POR': ['PORTAL, AZ'],\n",
      " 'PRE': ['PRESIDIO, TX          '],\n",
      " 'PRO': ['PROVIDENCE, RI        '],\n",
      " 'PSC': ['TRI-CITIES - PASCO, WA'],\n",
      " 'PSE': ['PONCE-MERCEDITA, PR'],\n",
      " 'PSJ': ['PORT ST JOE, FL       '],\n",
      " 'PSM': ['PORTSMOUTH, NH        '],\n",
      " 'PSP': ['PALM SPRINGS, CA'],\n",
      " 'PTK': ['OAKLAND COUNTY - PONTIAC, MI'],\n",
      " 'PTL': ['PORTHILL, ID          '],\n",
      " 'PTO': ['PORT TOWNSEND, WA     '],\n",
      " 'PTY': ['OMAR TORRIJOS, PANAMA'],\n",
      " 'PUT': ['PUT-IN-BAY, OH        '],\n",
      " 'PVD': ['THEODORE FRANCIS - WARWICK, RI'],\n",
      " 'PWB': ['PASCO, WA             '],\n",
      " 'RAN': ['RAINER, MN            '],\n",
      " 'RAY': ['RAYMOND, MT           '],\n",
      " 'RBT': ['ROBERTS LANDING, MI   '],\n",
      " 'RCM': ['RICHMOND, VA          '],\n",
      " 'RDM': ['ROBERTS FIELDS - REDMOND, OR'],\n",
      " 'RDU': ['RALEIGH/DURHAM, NC    '],\n",
      " 'REN': ['RENO, NV              '],\n",
      " 'RFD': ['GREATER ROCKFORD, IL'],\n",
      " 'RGM': ['RANGELEY, ME (BPS)'],\n",
      " 'RIF': ['RICHFORT, VT          '],\n",
      " 'RIO': ['RIO GRANDE CITY, TX   '],\n",
      " 'RIT': ['ROME, ITALY           '],\n",
      " 'RIV': ['RIVERSIDE, CA'],\n",
      " 'RME': ['ROME, NY'],\n",
      " 'RNO': ['CANNON INTL - RENO/TAHOE, NV'],\n",
      " 'ROC': ['ROCHESTER, NY         '],\n",
      " 'ROG': ['ROGERS ARPT, AR'],\n",
      " 'ROM': ['ROMA, TX              '],\n",
      " 'ROO': ['ROOSVILLE, MT         '],\n",
      " 'ROS': ['ROSEAU, MN            '],\n",
      " 'ROU': ['ROUSES POINT, NY      '],\n",
      " 'RST': ['ROCHESTER, MN'],\n",
      " 'RUI': ['RUIDOSO, NM'],\n",
      " 'RYY': ['No PORT Code (RYY)'],\n",
      " 'SAA': ['SANTA ANA, CA         '],\n",
      " 'SAC': ['SACRAMENTO, CA        '],\n",
      " 'SAG': ['SAGINAW, MI           '],\n",
      " 'SAI': ['SAIPAN, SPN           '],\n",
      " 'SAJ': ['SAN JUAN, PR          '],\n",
      " 'SAN': ['SAN SALVADOR, EL SALVADOR'],\n",
      " 'SAR': ['SARLES, ND            '],\n",
      " 'SAS': ['SASABE, AZ            '],\n",
      " 'SAU': ['ST AUGUSTINE, FL      '],\n",
      " 'SAV': ['SAVANNAH, GA          '],\n",
      " 'SBN': ['SOUTH BEND, IN'],\n",
      " 'SBR': ['SOUTH BREWER, ME      '],\n",
      " 'SCC': ['BP SPEC COORD. CTR, TX'],\n",
      " 'SCH': ['No PORT Code (SCH)'],\n",
      " 'SCL': ['ST CLAIR, MI          '],\n",
      " 'SCO': ['SCOBEY, MT            '],\n",
      " 'SDP': ['SAN DIEGO, CA'],\n",
      " 'SDY': ['SANDUSKY, OH          '],\n",
      " 'SEA': ['SEATTLE, WA           '],\n",
      " 'SFB': ['SANFORD, FL           '],\n",
      " 'SFR': ['SAN FRANCISCO, CA     '],\n",
      " 'SGF': ['SPRINGFIELD-BRANSON, MO'],\n",
      " 'SGJ': ['ST AUGUSTINE ARPT, FL'],\n",
      " 'SGR': ['HULL FIELD, SUGAR LAND ARPT, TX'],\n",
      " 'SHA': ['SHANNON, IRELAND      '],\n",
      " 'SHR': ['SHERWOOD, ND          '],\n",
      " 'SJO': ['ST JOHN, ND           '],\n",
      " 'SKA': ['SKAGWAY, AK           '],\n",
      " 'SLC': ['SALT LAKE CITY, UT    '],\n",
      " 'SLI': ['SAN LUIS OBISPO, CA (BPS)'],\n",
      " 'SLO': ['SAN LUIS OBISPO, CA   '],\n",
      " 'SLP': ['SAN LUIS POTOSI #ARPT, MEXICO'],\n",
      " 'SLS': ['SALINAS, CA (BPS)'],\n",
      " 'SLU': ['SAN LUIS, AZ          '],\n",
      " 'SNA': ['SAN ANTONIO, TX       '],\n",
      " 'SNJ': ['SAN JOSE, CA          '],\n",
      " 'SNN': ['SANDERSON, TX         '],\n",
      " 'SNO': ['SAKON NAKHON #ARPT, THAILAND'],\n",
      " 'SNP': ['ST. PAUL ISLAND, AK'],\n",
      " 'SP0': ['No PORT Code (SP0)'],\n",
      " 'SPA': ['ST PAMPILE, ME        '],\n",
      " 'SPC': ['SAN PEDRO, CA         '],\n",
      " 'SPE': ['ST PETERSBURG, FL     '],\n",
      " 'SPF': ['BLACK HILLS, SPEARFISH, SD'],\n",
      " 'SPI': ['CAPITAL - SPRINGFIELD, IL'],\n",
      " 'SPM': ['ST PAUL, MN           '],\n",
      " 'SPO': ['SPOKANE, WA           '],\n",
      " 'SPV': ['PAPUA, NEW GUINEA'],\n",
      " 'SRL': ['ST AURELIE, ME        '],\n",
      " 'SRO': ['SANTANA RAMOS #ARPT, COLOMBIA'],\n",
      " 'SRQ': ['BRADENTON - SARASOTA, FL'],\n",
      " 'SSC': ['SHAW AFB - SUMTER, NC'],\n",
      " 'SSM': ['SAULT STE. MARIE, MI  '],\n",
      " 'STA': ['ST ALBANS, VT         '],\n",
      " 'STL': ['ST LOUIS, MO          '],\n",
      " 'STN': ['Collapsed (STR) 06/15'],\n",
      " 'STO': ['STOCKTON, CA (BPS)'],\n",
      " 'STR': ['SANTA TERESA, NM      '],\n",
      " 'STT': ['ST THOMAS, VI         '],\n",
      " 'SUM': ['SUMAS, WA             '],\n",
      " 'SUS': ['No PORT Code (SUS)'],\n",
      " 'SVC': ['GRANT COUNTY - SILVER CITY, MN'],\n",
      " 'SWB': ['SWANTON, VT (BP - SECTOR HQ)'],\n",
      " 'SWE': ['SWEETGTASS, MT        '],\n",
      " 'SWF': ['STEWART - ORANGE CNTY, NY'],\n",
      " 'SYR': ['SYRACUSE, NY          '],\n",
      " 'SYS': ['SAN YSIDRO, CA        '],\n",
      " 'T01': ['Collapsed (SEA) 06/15'],\n",
      " 'TAC': ['TACOMA, WA            '],\n",
      " 'TAM': ['TAMPA, FL             '],\n",
      " 'TEC': ['TECATE, CA            '],\n",
      " 'THO': ['THOUSAND ISLAND BRIDGE, NY'],\n",
      " 'TIW': ['No PORT Code (TIW)'],\n",
      " 'TKI': ['TOKEEN, AK'],\n",
      " 'TOK': ['TOROKINA #ARPT, PAPUA, NEW GUINEA'],\n",
      " 'TOL': ['TOLEDO, OH            '],\n",
      " 'TOR': ['TORONTO, CANADA       '],\n",
      " 'TRI': ['TRI CITY ARPT, TN'],\n",
      " 'TRL': ['TRIAL CREEK, MT       '],\n",
      " 'TRO': ['TROUT RIVER, NY       '],\n",
      " 'TRV': ['TRAVIS-AFB, CA        '],\n",
      " 'TST': ['NEWINGTON DATA CENTER TEST, CT'],\n",
      " 'TUC': ['TUCSON, AZ            '],\n",
      " 'TUL': ['TULSA, OK'],\n",
      " 'TUR': ['TURNER, MT            '],\n",
      " 'TYS': ['MC GHEE TYSON - ALCOA, TN'],\n",
      " 'UGN': ['MEMORIAL - WAUKEGAN, IL'],\n",
      " 'UIO': ['QUITO (MARISCAL SUCR), ECUADOR'],\n",
      " 'UNK': ['UNKNOWN POE           '],\n",
      " 'VAN': ['VANCOUVER, WA         '],\n",
      " 'VCB': ['VANCEBORO, ME         '],\n",
      " 'VCV': ['VANCOUVER, CANADA     '],\n",
      " 'VER': ['VERACRUZ, MEXICO'],\n",
      " 'VIB': ['VETERAN INTL BRIDGE, TX'],\n",
      " 'VIC': ['VICTORIA, CANADA      '],\n",
      " 'VMB': ['Collapsed (VNB) 06/15'],\n",
      " 'VNB': ['VAN BUREN, ME         '],\n",
      " 'VNY': ['VAN NUYS, CA'],\n",
      " 'VQS': ['VIEQUES-ARPT, PR'],\n",
      " 'W55': ['No PORT Code (W55)'],\n",
      " 'WA5': ['No PORT Code (WAS)'],\n",
      " 'WAL': ['WALHALLA, ND          '],\n",
      " 'WAR': ['WARROAD, MN           '],\n",
      " 'WAS': ['WASHINGTON DC         '],\n",
      " 'WAT': ['WATERTOWN, NY         '],\n",
      " 'WBE': ['WEST BERKSHIRE, VT    '],\n",
      " 'WCM': ['WILLOW CREEK, MT      '],\n",
      " 'WHI': ['WHITETAIL, MT         '],\n",
      " 'WHM': ['WILD HORSE, MT        '],\n",
      " 'WHO': ['WESTHOPE, ND          '],\n",
      " 'WIL': ['WILMINGTON, NC        '],\n",
      " 'WIN': ['WINNIPEG, CANADA      '],\n",
      " 'WLL': ['WILMINGTON, DE        '],\n",
      " 'WND': ['WILLISTON, ND         '],\n",
      " 'WPB': ['WEST PALM BEACH, FL   '],\n",
      " 'WRA': ['WRANGELL, AK          '],\n",
      " 'WRB': ['WHIRLPOOL BRIDGE, NY'],\n",
      " 'WRI': ['MC GUIRE AFB - WRIGHTSOWN, NJ'],\n",
      " 'WSB': ['WARROAD INTL, SPB, MN'],\n",
      " 'WTR': ['No PORT Code (WTR)'],\n",
      " 'X44': ['No PORT Code (X44)'],\n",
      " 'X96': ['No PORT Code (X96)'],\n",
      " 'XNA': ['No PORT Code (XNA)'],\n",
      " 'XXX': ['NOT REPORTED/UNKNOWN  '],\n",
      " 'Y62': ['No PORT Code (Y62)'],\n",
      " 'YGF': ['No PORT Code (YGF)'],\n",
      " 'YHC': ['HAKAI PASS, CANADA'],\n",
      " 'YIP': ['WILLOW RUN - YPSILANTI, MI'],\n",
      " 'YOU': ['YOUNGSTOWN, NY        '],\n",
      " 'YSL': ['YSLETA, TX            '],\n",
      " 'YUI': ['YUMA, AZ              '],\n",
      " 'YUM': ['YUMA, AZ'],\n",
      " 'YXE': ['SASKATOON, CANADA'],\n",
      " 'ZZZ': ['MEXICO Land (Banco de Mexico) ']}\n"
     ]
    }
   ],
   "source": [
    "### i94_port_lines = (303, 962)\n",
    "re_obj = re.compile(r'\\'(.*)\\'.*\\'(.*)\\'')\n",
    "valid_ports = {}\n",
    "for line in lines[302:961]:\n",
    "    match = re_obj.search(line)\n",
    "    valid_ports[match.group(1)]=[match.group(2)]\n",
    "from pprint import pprint\n",
    "pprint(valid_ports)"
   ]
  },
  {
   "cell_type": "code",
   "execution_count": 39,
   "metadata": {},
   "outputs": [
    {
     "output_type": "execute_result",
     "data": {
      "text/plain": [
       "  port_code                 port_city port_state\n",
       "0       ALC                     ALCAN         AK\n",
       "1       ANC                 ANCHORAGE         AK\n",
       "2       BAR  BAKER AAF - BAKER ISLAND         AK\n",
       "3       DAC             DALTONS CACHE         AK\n",
       "4       PIZ    DEW STATION PT LAY DEW         AK"
      ],
      "text/html": "<div>\n<style scoped>\n    .dataframe tbody tr th:only-of-type {\n        vertical-align: middle;\n    }\n\n    .dataframe tbody tr th {\n        vertical-align: top;\n    }\n\n    .dataframe thead th {\n        text-align: right;\n    }\n</style>\n<table border=\"1\" class=\"dataframe\">\n  <thead>\n    <tr style=\"text-align: right;\">\n      <th></th>\n      <th>port_code</th>\n      <th>port_city</th>\n      <th>port_state</th>\n    </tr>\n  </thead>\n  <tbody>\n    <tr>\n      <th>0</th>\n      <td>ALC</td>\n      <td>ALCAN</td>\n      <td>AK</td>\n    </tr>\n    <tr>\n      <th>1</th>\n      <td>ANC</td>\n      <td>ANCHORAGE</td>\n      <td>AK</td>\n    </tr>\n    <tr>\n      <th>2</th>\n      <td>BAR</td>\n      <td>BAKER AAF - BAKER ISLAND</td>\n      <td>AK</td>\n    </tr>\n    <tr>\n      <th>3</th>\n      <td>DAC</td>\n      <td>DALTONS CACHE</td>\n      <td>AK</td>\n    </tr>\n    <tr>\n      <th>4</th>\n      <td>PIZ</td>\n      <td>DEW STATION PT LAY DEW</td>\n      <td>AK</td>\n    </tr>\n  </tbody>\n</table>\n</div>"
     },
     "metadata": {},
     "execution_count": 39
    }
   ],
   "source": [
    "# Get port locations from SAS text file\n",
    "with open(\"./I94_SAS_Labels_Descriptions.SAS\") as f:\n",
    "    content = f.readlines()\n",
    "content = [x.strip() for x in content]\n",
    "ports = content[302:962]\n",
    "splitted_ports = [port.split(\"=\") for port in ports]\n",
    "port_codes = [x[0].replace(\"'\",\"\").strip() for x in splitted_ports]\n",
    "port_locations = [x[1].replace(\"'\",\"\").strip() for x in splitted_ports]\n",
    "port_cities = [x.split(\",\")[0] for x in port_locations]\n",
    "port_states = [x.split(\",\")[-1] for x in port_locations]\n",
    "df_port_locations = pd.DataFrame({\"port_code\" : port_codes, \"port_city\": port_cities, \"port_state\": port_states})\n",
    "df_port_locations.head(5)\n"
   ]
  },
  {
   "cell_type": "code",
   "execution_count": 40,
   "metadata": {},
   "outputs": [
    {
     "output_type": "execute_result",
     "data": {
      "text/plain": [
       "Springfield     9545\n",
       "Worcester       8359\n",
       "León            7469\n",
       "Rongcheng       6526\n",
       "Manchester      6478\n",
       "                ... \n",
       "Machala         1591\n",
       "Trujillo        1584\n",
       "Chimbote        1584\n",
       "Chiclayo        1584\n",
       "Port Moresby    1581\n",
       "Name: City, Length: 3448, dtype: int64"
      ]
     },
     "metadata": {},
     "execution_count": 40
    }
   ],
   "source": [
    "#read weather file\n",
    "temp_df=pd.read_csv(temp_file)\n",
    "temp_df.tail(1)\n",
    "temp_df['City'].value_counts()"
   ]
  },
  {
   "cell_type": "markdown",
   "metadata": {},
   "source": [
    "### Step 2: Explore and Assess the Data\n",
    "#### Explore the Data \n",
    "Identify data quality issues, like missing values, duplicate data, etc.\n",
    "\n",
    "#### Cleaning Steps\n",
    "Document steps necessary to clean the data"
   ]
  },
  {
   "cell_type": "code",
   "execution_count": 41,
   "metadata": {},
   "outputs": [],
   "source": [
    "# Performing cleaning tasks here\n",
    "df1 = spark.createDataFrame(new_df_img)"
   ]
  },
  {
   "cell_type": "code",
   "execution_count": 44,
   "metadata": {},
   "outputs": [],
   "source": [
    "def clean_data(df):  \n",
    "     temp = df1.filter(df1.i94port.isin(list(valid_ports.keys())))\n",
    "     return temp"
   ]
  },
  {
   "cell_type": "code",
   "execution_count": 75,
   "metadata": {},
   "outputs": [],
   "source": [
    "img_df=clean_data(df1)"
   ]
  },
  {
   "cell_type": "code",
   "execution_count": 37,
   "metadata": {},
   "outputs": [
    {
     "output_type": "stream",
     "name": "stdout",
     "text": [
      "+-----+------+------+-------+------+-------+-------+-------+-------+------+-----+--------+\n|cicid| i94yr|i94cit|i94port|i94res|arrdate|i94mode|biryear|i94visa|gender|fltno|visatype|\n+-----+------+------+-------+------+-------+-------+-------+-------+------+-----+--------+\n|  6.0|2016.0| 692.0|    XXX| 692.0|20573.0|    NaN| 1979.0|    2.0|  null| null|Pleasure|\n|  7.0|2016.0| 254.0|    ATL| 276.0|20551.0|    1.0| 1991.0|    3.0|     M|00296| Student|\n| 15.0|2016.0| 101.0|    WAS| 101.0|20545.0|    1.0| 1961.0|    2.0|     M|   93|Pleasure|\n| 16.0|2016.0| 101.0|    NYC| 101.0|20545.0|    1.0| 1988.0|    2.0|  null|00199|Pleasure|\n| 17.0|2016.0| 101.0|    NYC| 101.0|20545.0|    1.0| 2012.0|    2.0|  null|00199|Pleasure|\n| 18.0|2016.0| 101.0|    NYC| 101.0|20545.0|    1.0| 1959.0|    1.0|  null|00602|Business|\n| 19.0|2016.0| 101.0|    NYC| 101.0|20545.0|    1.0| 1953.0|    2.0|  null|00602|Pleasure|\n| 20.0|2016.0| 101.0|    NYC| 101.0|20545.0|    1.0| 1959.0|    2.0|  null|00602|Pleasure|\n| 21.0|2016.0| 101.0|    NYC| 101.0|20545.0|    1.0| 1970.0|    2.0|  null|00602|Pleasure|\n| 22.0|2016.0| 101.0|    NYC| 101.0|20545.0|    1.0| 1968.0|    1.0|  null|00608|Business|\n| 23.0|2016.0| 101.0|    NYC| 101.0|20545.0|    1.0| 1964.0|    2.0|  null|00001|Pleasure|\n| 24.0|2016.0| 101.0|    TOR| 101.0|20545.0|    1.0| 1983.0|    2.0|  null|03348|Pleasure|\n| 27.0|2016.0| 101.0|    BOS| 101.0|20545.0|    1.0| 1958.0|    1.0|     M|00422|Business|\n| 28.0|2016.0| 101.0|    ATL| 101.0|20545.0|    1.0| 1960.0|    1.0|     F|00422|Business|\n| 29.0|2016.0| 101.0|    ATL| 101.0|20545.0|    1.0| 1954.0|    2.0|     M|00614|Pleasure|\n| 30.0|2016.0| 101.0|    ATL| 101.0|20545.0|    1.0| 1967.0|    2.0|     M|00089|Pleasure|\n| 31.0|2016.0| 101.0|    ATL| 101.0|20545.0|    1.0| 1973.0|    2.0|     M|00089|Pleasure|\n| 33.0|2016.0| 101.0|    HOU| 101.0|20545.0|    1.0| 1963.0|    2.0|     F|00033|Pleasure|\n| 34.0|2016.0| 101.0|    NYC| 101.0|20545.0|    1.0| 1968.0|    2.0|     M|00602|Pleasure|\n| 35.0|2016.0| 101.0|    NYC| 101.0|20545.0|    1.0| 1942.0|    2.0|     F|    1|Pleasure|\n+-----+------+------+-------+------+-------+-------+-------+-------+------+-----+--------+\nonly showing top 20 rows\n\n"
     ]
    }
   ],
   "source": [
    "img_df.show()"
   ]
  },
  {
   "cell_type": "code",
   "execution_count": 57,
   "metadata": {},
   "outputs": [],
   "source": [
    "df_temp = spark.read.format(\"csv\").option(\"header\", \"true\").load(temp_file)"
   ]
  },
  {
   "cell_type": "code",
   "execution_count": 53,
   "metadata": {},
   "outputs": [],
   "source": [
    "# Create dictionary of valid i94port codes\n",
    "re_obj = re.compile(r'\\'(.*)\\'.*\\'(.*)\\'')\n",
    "i94port_valid = {}\n",
    "with open('i94port_valid.txt') as f:\n",
    "     for line in f:\n",
    "         match = re_obj.search(line)\n",
    "         i94port_valid[match[1]]=[match[2]]"
   ]
  },
  {
   "cell_type": "code",
   "execution_count": 73,
   "metadata": {},
   "outputs": [],
   "source": [
    "@udf()\n",
    "def get_i94port(city):    \n",
    "    for key in i94port_valid:\n",
    "        if city.lower() in i94port_valid[key][0].lower():\n",
    "            return key"
   ]
  },
  {
   "cell_type": "code",
   "execution_count": 61,
   "metadata": {},
   "outputs": [],
   "source": [
    "# Cleaning data\n",
    "\n",
    "def clean_data(temp_df):\n",
    "    temp_df = temp_df.filter(temp_df.AverageTemperature != 'NaN')\n",
    "    temp_df = temp_df.dropDuplicates(['City', 'Country'])\n",
    "    temp_df = temp_df.withColumn(\"i94port\", get_i94port(temp_df.City))\n",
    "    return temp_df.filter(temp_df.i94port != 'null')\n"
   ]
  },
  {
   "cell_type": "code",
   "execution_count": 62,
   "metadata": {},
   "outputs": [],
   "source": [
    "temp_df = clean_data(df_temp)"
   ]
  },
  {
   "cell_type": "markdown",
   "metadata": {},
   "source": [
    "### Step 4: Run Pipelines to Model the Data \n",
    "#### 4.1 Create the data model\n",
    "Build the data pipelines to create the data model."
   ]
  },
  {
   "cell_type": "code",
   "execution_count": 74,
   "metadata": {},
   "outputs": [],
   "source": [
    "# ## Conceptual Data Model\n",
    "# #### imigration dim:\n",
    "img_df.write.mode(\"append\").partitionBy(\"i94port\").parquet(\"/results/immigration.parquet\")"
   ]
  },
  {
   "cell_type": "code",
   "execution_count": null,
   "metadata": {},
   "outputs": [],
   "source": [
    "#dim_temperature\n",
    "temp_df.write.mode(\"append\").partitionBy(\"i94port\").parquet(\"/results/temperature.parquet\")"
   ]
  },
  {
   "cell_type": "code",
   "execution_count": null,
   "metadata": {},
   "outputs": [],
   "source": [
    "# Create temporary views of the immigration and temperature data\n",
    "img_df.createOrReplaceTempView(\"new_df_img\")\n",
    "temp_df.createOrReplaceTempView(\"temp_view\")"
   ]
  },
  {
   "cell_type": "code",
   "execution_count": null,
   "metadata": {},
   "outputs": [],
   "source": [
    "# Create the fact table by joining the immigration and temperature views\n",
    "fact_table = spark.sql('''\n",
    "SELECT new_df_img.i94yr as year,\n",
    "       new_df_img.i94mon as month,\n",
    "       new_df_img.i94cit as city,\n",
    "       new_df_img.i94port as i94port,\n",
    "       new_df_img.arrdate as arrival_date,\n",
    "       new_df_img.depdate as departure_date,\n",
    "       new_df_img.i94visa as reason,\n",
    "       df_temp.AverageTemperature as temperature,\n",
    "       df_temp.Latitude as latitude,\n",
    "       df_temp.Longitude as longitude\n",
    "FROM new_df_img\n",
    "JOIN df_temp ON (new_df_img.i94port = df_temp.i94port)\n",
    "''')"
   ]
  },
  {
   "cell_type": "code",
   "execution_count": null,
   "metadata": {},
   "outputs": [],
   "source": [
    "# Write fact table to parquet files partitioned by i94port\n",
    "fact_table.write.mode(\"append\").partitionBy(\"i94port\").parquet(\"/results/fact.parquet\")"
   ]
  },
  {
   "cell_type": "markdown",
   "metadata": {},
   "source": [
    "#### 4.2 Data Quality Checks\n",
    "Explain the data quality checks you'll perform to ensure the pipeline ran as expected. These could include:\n",
    " * Integrity constraints on the relational database (e.g., unique key, data type, etc.)\n",
    " * Unit tests for the scripts to ensure they are doing the right thing\n",
    " * Source/Count checks to ensure completeness\n",
    " \n",
    "Run Quality Checks"
   ]
  },
  {
   "cell_type": "code",
   "execution_count": null,
   "metadata": {},
   "outputs": [],
   "source": [
    "# Perform quality checks here\n",
    "def quality_check(df, description):\n",
    "    result = df.count()\n",
    "    \n",
    "    if result == 0:\n",
    "        print(\"Data quality check failed for {} with zero records\".format(description))\n",
    "    else:\n",
    "        print(\"Data quality check passed for {} with {} records\".format(description, result))\n",
    "    return 0"
   ]
  },
  {
   "cell_type": "code",
   "execution_count": null,
   "metadata": {},
   "outputs": [],
   "source": [
    "# Perform data quality check\n",
    "quality_check(img_df, \"immigration table\")\n",
    "quality_check(temp_df, \"temperature table\")"
   ]
  },
  {
   "cell_type": "code",
   "execution_count": null,
   "metadata": {},
   "outputs": [],
   "source": []
  },
  {
   "cell_type": "code",
   "execution_count": null,
   "metadata": {},
   "outputs": [],
   "source": []
  },
  {
   "cell_type": "code",
   "execution_count": null,
   "metadata": {},
   "outputs": [],
   "source": []
  }
 ],
 "metadata": {
  "kernelspec": {
   "name": "python3",
   "display_name": "Python 3.9.0 64-bit",
   "metadata": {
    "interpreter": {
     "hash": "aee8b7b246df8f9039afb4144a1f6fd8d2ca17a180786b69acc140d282b71a49"
    }
   }
  },
  "language_info": {
   "codemirror_mode": {
    "name": "ipython",
    "version": 3
   },
   "file_extension": ".py",
   "mimetype": "text/x-python",
   "name": "python",
   "nbconvert_exporter": "python",
   "pygments_lexer": "ipython3",
   "version": "3.9.0-final"
  }
 },
 "nbformat": 4,
 "nbformat_minor": 2
}